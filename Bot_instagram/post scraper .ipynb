{
 "cells": [
  {
   "cell_type": "code",
   "execution_count": 11,
   "id": "360b311c",
   "metadata": {},
   "outputs": [],
   "source": [
    "from selenium import webdriver\n",
    "from selenium.webdriver.common.by import By\n",
    "from selenium.webdriver.support.wait import WebDriverWait\n",
    "from selenium.webdriver.support import expected_conditions as EC\n",
    "from selenium.webdriver.common.keys import Keys\n",
    "import time\n",
    "import os\n",
    "import wget\n",
    "\n",
    "\n",
    "driver = webdriver.Chrome()\n",
    "driver.get(\"https://www.instagram.com/\")\n",
    "\n",
    "username = WebDriverWait(driver, 10).until(EC.element_to_be_clickable((By.CSS_SELECTOR, \"input[name='username']\")))\n",
    "password = WebDriverWait(driver, 10).until(EC.element_to_be_clickable((By.CSS_SELECTOR, \"input[name='password']\")))\n",
    "#completado de credenciales \n",
    "username.clear()\n",
    "username.send_keys(\"haynochebot\")\n",
    "password.clear()\n",
    "password.send_keys(\"Cuatroveinte420\")\n",
    "\n",
    "#logueo\n",
    "logbutton = WebDriverWait(driver, 2).until(EC.element_to_be_clickable((By.CSS_SELECTOR, \"button[type='submit']\"))).click()\n",
    "\n",
    "#sikpeo de notificaciones notNow\n",
    "NotNow = WebDriverWait(driver, 10).until(EC.element_to_be_clickable((By.XPATH, '//button[contains(text(), \"Not Now\")]'))).click()\n",
    "NotNow2 = WebDriverWait(driver, 10).until(EC.element_to_be_clickable((By.XPATH, '//button[contains(text(), \"Not Now\")]'))).click()\n",
    "\n",
    "#pickeo del buscador\n",
    "searchbox = WebDriverWait(driver, 10).until(EC.element_to_be_clickable((By.XPATH, \"//input[@placeholder='Search']\")))\n",
    "searchbox.clear()\n",
    "\n",
    "#se le pasan las credenciales y se busca \n",
    "keyword = \"@mcdonalds_uy\"\n",
    "searchbox.send_keys(keyword)\n",
    "\n",
    "#entra al perfil buscado \n",
    "time.sleep(2) # Wait 2 seconds\n",
    "my_link = WebDriverWait(driver, 10).until(EC.element_to_be_clickable((By.XPATH, \"//a[contains(@href, '/\" + keyword[1:] + \"/')]\")))\n",
    "my_link.click()\n",
    "\n"
   ]
  },
  {
   "cell_type": "code",
   "execution_count": 12,
   "id": "4dbdcfd8",
   "metadata": {},
   "outputs": [
    {
     "name": "stdout",
     "output_type": "stream",
     "text": [
      "Number of scraped images:  9\n"
     ]
    }
   ],
   "source": [
    "\n",
    "images = driver.find_elements(By.XPATH, '//div[@class=\"_ac7v _aang\"]/div[1]')\n",
    "images = driver.find_elements(By.TAG_NAME, 'img')\n",
    "images = [image.get_attribute('src') for image in images]\n",
    "images = images[:9]\n",
    "\n",
    "print('Number of scraped images: ', len(images))"
   ]
  },
  {
   "cell_type": "code",
   "execution_count": 14,
   "id": "9f9cacd3",
   "metadata": {
    "scrolled": false
   },
   "outputs": [
    {
     "data": {
      "text/plain": [
       "'C:\\\\Users\\\\rodri\\\\Desktop\\\\Bot_instagram\\\\@mcdonalds_uys'"
      ]
     },
     "execution_count": 14,
     "metadata": {},
     "output_type": "execute_result"
    }
   ],
   "source": [
    "\n",
    "\n",
    "path = os.getcwd()\n",
    "path = os.path.join(path, keyword + \"s\")\n",
    "\n",
    "#create the directory\n",
    "os.mkdir(path)\n",
    "\n",
    "path"
   ]
  },
  {
   "cell_type": "code",
   "execution_count": 15,
   "id": "0f681c53",
   "metadata": {},
   "outputs": [
    {
     "name": "stdout",
     "output_type": "stream",
     "text": [
      "\r",
      "  0% [                                                                                ]    0 / 8146\r",
      "100% [................................................................................] 8146 / 8146\r",
      "  0% [                                                                                ]    0 / 2694\r",
      "100% [................................................................................] 2694 / 2694\r",
      "  0% [                                                                                ]    0 / 4708\r",
      "100% [................................................................................] 4708 / 4708"
     ]
    }
   ],
   "source": [
    "counter = 0\n",
    "for image in images[6:]:\n",
    "    save_as = os.path.join(path, keyword + str(counter) + '.jpg')\n",
    "    wget.download(image, save_as)\n",
    "    counter += 1  "
   ]
  },
  {
   "cell_type": "code",
   "execution_count": null,
   "id": "4f323661",
   "metadata": {},
   "outputs": [],
   "source": []
  }
 ],
 "metadata": {
  "kernelspec": {
   "display_name": "Python 3 (ipykernel)",
   "language": "python",
   "name": "python3"
  },
  "language_info": {
   "codemirror_mode": {
    "name": "ipython",
    "version": 3
   },
   "file_extension": ".py",
   "mimetype": "text/x-python",
   "name": "python",
   "nbconvert_exporter": "python",
   "pygments_lexer": "ipython3",
   "version": "3.10.9"
  }
 },
 "nbformat": 4,
 "nbformat_minor": 5
}
